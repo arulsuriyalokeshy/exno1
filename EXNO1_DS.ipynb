{
  "cells": [
    {
      "cell_type": "code",
      "execution_count": 1,
      "metadata": {
        "id": "2n5hINjQjg0I"
      },
      "outputs": [],
      "source": [
        "import pandas as pd"
      ]
    },
    {
      "cell_type": "code",
      "execution_count": null,
      "metadata": {
        "id": "ekd2--UNjzBH"
      },
      "outputs": [],
      "source": [
        "\n",
        "df=pd.read_csv(\"/content/SAMPLEIDS.csv\")\n",
        "(df)"
      ]
    },
    {
      "cell_type": "code",
      "execution_count": null,
      "metadata": {
        "id": "aO664SaXj_Kh"
      },
      "outputs": [],
      "source": [
        "df.dropna(axis=0)"
      ]
    },
    {
      "cell_type": "code",
      "execution_count": null,
      "metadata": {
        "id": "TEJVe1oJkTOn"
      },
      "outputs": [],
      "source": [
        "df.dropna(axis=1)"
      ]
    },
    {
      "cell_type": "code",
      "execution_count": null,
      "metadata": {
        "id": "lrWtOZnOkbLw"
      },
      "outputs": [],
      "source": [
        "df2=df[df['TOTAL']>270]\n",
        "df2"
      ]
    },
    {
      "cell_type": "code",
      "execution_count": null,
      "metadata": {
        "id": "x6UvnVeqk-FU"
      },
      "outputs": [],
      "source": [
        "df2=df[df['NAME'].str.startswith(('B','D'))& (df['TOTAL']>250)]\n",
        "df2\n",
        "df.iloc[:4]"
      ]
    },
    {
      "cell_type": "code",
      "execution_count": null,
      "metadata": {
        "id": "uD30INvylADq"
      },
      "outputs": [],
      "source": [
        "df.iloc[0:4,1:4]\n",
        "df.iloc[[1,3,5],[1,3]]"
      ]
    },
    {
      "cell_type": "code",
      "execution_count": null,
      "metadata": {
        "id": "ElyTR_kMlKN_"
      },
      "outputs": [],
      "source": [
        "dff=df.fillna(0)\n",
        "dff"
      ]
    },
    {
      "cell_type": "code",
      "execution_count": null,
      "metadata": {
        "id": "J3j5JMTPlpMs"
      },
      "outputs": [],
      "source": [
        "df['TOTAL'].fillna(value=df['TOTAL'].mean())"
      ]
    },
    {
      "cell_type": "code",
      "execution_count": null,
      "metadata": {
        "id": "DDfELIRflWsN"
      },
      "outputs": [],
      "source": [
        "df.fillna(method='ffill')"
      ]
    },
    {
      "cell_type": "code",
      "execution_count": null,
      "metadata": {
        "id": "iSh4e4qhlxKX"
      },
      "outputs": [],
      "source": [
        "import pandas as pd\n",
        "import seaborn as sns"
      ]
    },
    {
      "cell_type": "code",
      "execution_count": null,
      "metadata": {
        "id": "06nuEZyumfvO"
      },
      "outputs": [],
      "source": [
        "age=[1,3,28,27,25,92,30,39,40,50,26,24,29,94]\n",
        "af=pd.DataFrame(age)\n",
        "af\n",
        "age\n",
        "sns.boxplot(data=af)"
      ]
    },
    {
      "cell_type": "code",
      "execution_count": null,
      "metadata": {
        "id": "WjmFpMJOmkcg"
      },
      "outputs": [],
      "source": [
        "sns.scatterplot(data=af)"
      ]
    },
    {
      "cell_type": "code",
      "execution_count": null,
      "metadata": {
        "id": "ORTl2Iv5muIV"
      },
      "outputs": [],
      "source": [
        "q1=af.quantile(0.25)\n",
        "q2=af.quantile(0.5)\n",
        "q3=af.quantile(0.75)\n",
        "iqr=q3-q1\n",
        "iqr\n",
        "\n",
        "\n",
        "\n",
        "\n",
        "\n"
      ]
    },
    {
      "cell_type": "code",
      "execution_count": null,
      "metadata": {
        "id": "wGJfyBhQm1_C"
      },
      "outputs": [],
      "source": [
        "Q1=np.percentile(af,25)\n",
        "Q3=np.percentile(af,75)\n",
        "IQR=Q3-Q1\n",
        "IQR"
      ]
    },
    {
      "cell_type": "code",
      "execution_count": null,
      "metadata": {
        "id": "uo-X2gZ9nCXz"
      },
      "outputs": [],
      "source": [
        "lower_bound=Q1-1.5*IQR\n",
        "upper_bound=Q3+1.5*IQR\n",
        "lower_bound\n",
        "upper_bound"
      ]
    },
    {
      "cell_type": "code",
      "execution_count": null,
      "metadata": {
        "id": "0Qs-5pjBnstE"
      },
      "outputs": [],
      "source": [
        "outliers=[x for x in age if x < lower_bound or x > upper_bound]\n",
        "print(\"Q1 :\",Q1)\n",
        "print(\"Q3 :\",Q3)\n",
        "print(\"IQR :\",IQR)\n",
        "print(\"lower_bound :\",lower_bound)\n",
        "print(\"Upper_bound :\",upper_bound)\n",
        "print(\"Outliers :\",outliers)"
      ]
    },
    {
      "cell_type": "code",
      "execution_count": null,
      "metadata": {
        "id": "hfmvZRVEnOJ4"
      },
      "outputs": [],
      "source": [
        "import pandas as pd\n",
        "import seaborn as sns\n",
        "import numpy as np\n",
        "age=[1,3,28,27,25,92,30,39,40,50,26,24,29,94]\n",
        "af=pd.DataFrame(age)\n",
        "Q1=np.percentile(af,25)\n",
        "Q3=np.percentile(af,75)\n",
        "IQR=Q3-Q1\n",
        "lower_bound=Q1-1.5*IQR\n",
        "upper_bound=Q3+1.5*IQR\n",
        "af=af[((af>=lower_bound)&(af<=upper_bound))]\n",
        "af"
      ]
    },
    {
      "cell_type": "code",
      "execution_count": null,
      "metadata": {
        "id": "pdGFPLTTnOvd"
      },
      "outputs": [],
      "source": [
        "mean=np.mean(data)\n",
        "std=np.std(data)\n",
        "print('mean of the data is ',mean)\n",
        "print('std devietion is ',std)\n",
        "\n",
        "threshold=3\n",
        "outlier=[]\n",
        "for i in data:\n",
        "z=(i-mean)/std\n",
        "if z>threshold:\n",
        "    outlier.append(i)\n",
        "print(\"outlier of dataset is\",outlier)"
      ]
    }
  ],
  "metadata": {
    "colab": {
      "provenance": []
    },
    "kernelspec": {
      "display_name": "Python 3",
      "name": "python3"
    },
    "language_info": {
      "name": "python"
    }
  },
  "nbformat": 4,
  "nbformat_minor": 0
}
